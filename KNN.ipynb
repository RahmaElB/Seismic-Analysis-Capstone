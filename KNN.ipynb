{
 "cells": [
  {
   "cell_type": "code",
   "execution_count": 1,
   "id": "e2f3a755-0d84-4909-9f02-d0018e0c4350",
   "metadata": {},
   "outputs": [
    {
     "name": "stdout",
     "output_type": "stream",
     "text": [
      "Intel MKL WARNING: Support of Intel(R) Streaming SIMD Extensions 4.2 (Intel(R) SSE4.2) enabled only processors has been deprecated. Intel oneAPI Math Kernel Library 2025.0 will require Intel(R) Advanced Vector Extensions (Intel(R) AVX) instructions.\n",
      "Intel MKL WARNING: Support of Intel(R) Streaming SIMD Extensions 4.2 (Intel(R) SSE4.2) enabled only processors has been deprecated. Intel oneAPI Math Kernel Library 2025.0 will require Intel(R) Advanced Vector Extensions (Intel(R) AVX) instructions.\n"
     ]
    }
   ],
   "source": [
    "# Libraries used \n",
    "import numpy as np\n",
    "import pandas as pd\n",
    "import matplotlib.pyplot as plt\n",
    "import seaborn as sns\n",
    "from sklearn.model_selection import train_test_split\n",
    "from sklearn.preprocessing import StandardScaler\n",
    "from sklearn.neighbors import KNeighborsClassifier\n",
    "from sklearn.metrics import classification_report, confusion_matrix\n",
    "from sklearn.model_selection import GridSearchCV\n",
    "from math import sqrt"
   ]
  },
  {
   "cell_type": "code",
   "execution_count": 2,
   "id": "fe626ef0-aabe-4aae-937f-8d422ce60532",
   "metadata": {},
   "outputs": [],
   "source": [
    "# Upload the file \n",
    "Mdata = pd.read_csv('cleaned_earthquake_data.csv')"
   ]
  },
  {
   "cell_type": "code",
   "execution_count": 3,
   "id": "c40ac956-4be3-470b-ac08-b49f4829977e",
   "metadata": {},
   "outputs": [],
   "source": [
    "# Convert 'DateTime' column to datetime dtype\n",
    "Mdata['DateTime'] = pd.to_datetime(Mdata['DateTime'])\n",
    "# Filtering the data to include only years up to 2023\n",
    "Mdata = Mdata[Mdata['DateTime'].dt.year <= 2023]\n",
    "# Filtering out records with negative magnitudes\n",
    "Mdata = Mdata[Mdata['mag'] >= 0]\n",
    "# Filtering the data for valid longitude and latitude values\n",
    "Mdata = Mdata[(Mdata['longitude'].between(-180, 180)) & (Mdata['latitude'].between(-90, 90))]\n",
    "# Filtering out outliers in depth (removing values greater than 2000)\n",
    "Mdata = Mdata[Mdata['depth'] <= 2000]"
   ]
  },
  {
   "cell_type": "code",
   "execution_count": 4,
   "id": "a02ee0aa-9148-4b64-8237-704fc842d9a6",
   "metadata": {},
   "outputs": [],
   "source": [
    "# Preparing the dataset for machine learning\n",
    "# For KNN, we will categorize the magnitudes into classes (e.g., 0-1, 1-2, etc.)\n",
    "df_ml = Mdata.copy()\n",
    "df_ml['mag_category'] = pd.cut(df_ml['mag'], bins=np.arange(0, 10, 1), labels=np.arange(0, 9, 1))"
   ]
  },
  {
   "cell_type": "code",
   "execution_count": 5,
   "id": "e4a8bbc9-5541-438b-886a-10c0b5915d9b",
   "metadata": {},
   "outputs": [],
   "source": [
    "# Selecting features and target variable\n",
    "features = ['latitude', 'longitude', 'depth', 'year', 'month', 'day', 'hour', 'minute', 'second']\n",
    "target_knn = 'mag_category'"
   ]
  },
  {
   "cell_type": "code",
   "execution_count": 6,
   "id": "aea8053b-480a-49f1-8f1d-67bd0a683991",
   "metadata": {},
   "outputs": [],
   "source": [
    "# Splitting the data into training and testing sets\n",
    "X_train_knn, X_test_knn, y_train_knn, y_test_knn = train_test_split(df_ml[features], df_ml[target_knn], test_size=0.2, random_state=42)"
   ]
  },
  {
   "cell_type": "code",
   "execution_count": 7,
   "id": "c1837d3a-a45d-4097-a76d-61bfca0a72ef",
   "metadata": {},
   "outputs": [],
   "source": [
    "# Remove rows where the target variable is NaN\n",
    "train_data = pd.concat([X_train_knn, y_train_knn], axis=1)\n",
    "train_data = train_data.dropna(subset=['mag_category'])  # Replace 'target_column_name' with the actual name\n",
    "\n",
    "# Split the data back into features and target variable\n",
    "X_train_knn = train_data.drop(['mag_category'], axis=1)\n",
    "y_train_knn = train_data['mag_category']"
   ]
  },
  {
   "cell_type": "code",
   "execution_count": 8,
   "id": "81abe1e9-6381-4a1b-888b-76416607e70a",
   "metadata": {},
   "outputs": [],
   "source": [
    "# Standardizing the features\n",
    "scaler = StandardScaler()\n",
    "X_train_knn = scaler.fit_transform(X_train_knn)\n",
    "X_test_knn = scaler.transform(X_test_knn)"
   ]
  },
  {
   "cell_type": "code",
   "execution_count": 9,
   "id": "54de3cab-f35a-45fa-90fb-bd91d0e4850b",
   "metadata": {},
   "outputs": [],
   "source": [
    "# Remove rows in the test set where the target variable is NaN\n",
    "X_test_knn = X_test_knn[y_test_knn.notna()]\n",
    "y_test_knn = y_test_knn[y_test_knn.notna()]"
   ]
  },
  {
   "cell_type": "code",
   "execution_count": 10,
   "id": "4feed823-102a-4219-929f-4dcd04c69246",
   "metadata": {},
   "outputs": [
    {
     "name": "stderr",
     "output_type": "stream",
     "text": [
      "/Users/rahma/opt/anaconda3/envs/capstone/lib/python3.9/site-packages/sklearn/metrics/_classification.py:1469: UndefinedMetricWarning: Precision and F-score are ill-defined and being set to 0.0 in labels with no predicted samples. Use `zero_division` parameter to control this behavior.\n",
      "  _warn_prf(average, modifier, msg_start, len(result))\n",
      "/Users/rahma/opt/anaconda3/envs/capstone/lib/python3.9/site-packages/sklearn/metrics/_classification.py:1469: UndefinedMetricWarning: Precision and F-score are ill-defined and being set to 0.0 in labels with no predicted samples. Use `zero_division` parameter to control this behavior.\n",
      "  _warn_prf(average, modifier, msg_start, len(result))\n",
      "/Users/rahma/opt/anaconda3/envs/capstone/lib/python3.9/site-packages/sklearn/metrics/_classification.py:1469: UndefinedMetricWarning: Precision and F-score are ill-defined and being set to 0.0 in labels with no predicted samples. Use `zero_division` parameter to control this behavior.\n",
      "  _warn_prf(average, modifier, msg_start, len(result))\n"
     ]
    }
   ],
   "source": [
    "# K-Nearest Neighbors Classifier\n",
    "knn = KNeighborsClassifier()\n",
    "knn.fit(X_train_knn, y_train_knn)\n",
    "knn_predictions = knn.predict(X_test_knn)\n",
    "knn_accuracy = classification_report(y_test_knn, knn_predictions)"
   ]
  },
  {
   "cell_type": "code",
   "execution_count": 11,
   "id": "247f7b69-7d2e-466a-8719-aefec1398d57",
   "metadata": {},
   "outputs": [
    {
     "name": "stdout",
     "output_type": "stream",
     "text": [
      "              precision    recall  f1-score   support\n",
      "\n",
      "           0       0.22      0.11      0.14       760\n",
      "           1       0.70      0.88      0.78      6353\n",
      "           2       0.48      0.39      0.43      2840\n",
      "           3       0.55      0.30      0.39      1308\n",
      "           4       0.69      0.29      0.41       218\n",
      "           5       0.00      0.00      0.00        19\n",
      "           6       0.00      0.00      0.00         1\n",
      "           7       0.00      0.00      0.00         1\n",
      "\n",
      "    accuracy                           0.63     11500\n",
      "   macro avg       0.33      0.25      0.27     11500\n",
      "weighted avg       0.59      0.63      0.60     11500\n",
      "\n"
     ]
    },
    {
     "name": "stderr",
     "output_type": "stream",
     "text": [
      "/Users/rahma/opt/anaconda3/envs/capstone/lib/python3.9/site-packages/sklearn/metrics/_classification.py:1469: UndefinedMetricWarning: Precision and F-score are ill-defined and being set to 0.0 in labels with no predicted samples. Use `zero_division` parameter to control this behavior.\n",
      "  _warn_prf(average, modifier, msg_start, len(result))\n",
      "/Users/rahma/opt/anaconda3/envs/capstone/lib/python3.9/site-packages/sklearn/metrics/_classification.py:1469: UndefinedMetricWarning: Precision and F-score are ill-defined and being set to 0.0 in labels with no predicted samples. Use `zero_division` parameter to control this behavior.\n",
      "  _warn_prf(average, modifier, msg_start, len(result))\n",
      "/Users/rahma/opt/anaconda3/envs/capstone/lib/python3.9/site-packages/sklearn/metrics/_classification.py:1469: UndefinedMetricWarning: Precision and F-score are ill-defined and being set to 0.0 in labels with no predicted samples. Use `zero_division` parameter to control this behavior.\n",
      "  _warn_prf(average, modifier, msg_start, len(result))\n"
     ]
    }
   ],
   "source": [
    "# Evaluating the models\n",
    "knn_accuracy = classification_report(y_test_knn, knn_predictions)\n",
    "print(knn_accuracy)"
   ]
  },
  {
   "cell_type": "code",
   "execution_count": 12,
   "id": "b2d94659-70e6-447a-8dfe-294b103e6988",
   "metadata": {},
   "outputs": [
    {
     "data": {
      "image/png": "[encoded data removed]",
      "text/plain": [
       "<Figure size 800x600 with 2 Axes>"
      ]
     },
     "metadata": {},
     "output_type": "display_data"
    }
   ],
   "source": [
    "# Adjusting the confusion matrix to match the actual classes in the test data\n",
    "unique_classes = sorted(y_test_knn.unique())\n",
    "cm = confusion_matrix(y_test_knn, knn_predictions, labels=unique_classes)\n",
    "cm_df = pd.DataFrame(cm, index=unique_classes, columns=unique_classes)\n",
    "\n",
    "# Plotting the adjusted confusion matrix\n",
    "plt.figure(figsize=(8, 6))\n",
    "sns.heatmap(cm_df, annot=True, fmt='g', cmap='Blues')\n",
    "plt.title('Confusion Matrix for KNN Model')\n",
    "plt.ylabel('Actual Labels')\n",
    "plt.xlabel('Predicted Labels')\n",
    "plt.show()"
   ]
  },
  {
   "cell_type": "code",
   "execution_count": 13,
   "id": "c030e388-4628-4e4e-b911-38e2c7bfd72c",
   "metadata": {},
   "outputs": [],
   "source": [
    "# Hyperparameter tuning for KNN\n",
    "knn_params = {\n",
    "    'n_neighbors': [3, 5, 7, 9, 11],\n",
    "    'weights': ['uniform', 'distance'],\n",
    "    'metric': ['euclidean', 'manhattan']\n",
    "}\n",
    "\n",
    "knn_grid = GridSearchCV(KNeighborsClassifier(), knn_params, cv=5, scoring='accuracy')\n",
    "knn_grid.fit(X_train_knn, y_train_knn)\n",
    "\n",
    "best_knn_params = knn_grid.best_params_\n",
    "best_knn_score = knn_grid.best_score_"
   ]
  },
  {
   "cell_type": "code",
   "execution_count": 14,
   "id": "b14024d4-3bc2-44ba-b34b-4e9b2169ea4c",
   "metadata": {},
   "outputs": [
    {
     "name": "stdout",
     "output_type": "stream",
     "text": [
      "{'metric': 'manhattan', 'n_neighbors': 11, 'weights': 'distance'}\n",
      "0.6594801294560994\n"
     ]
    }
   ],
   "source": [
    "print(best_knn_params)\n",
    "print(best_knn_score)"
   ]
  }
 ],
 "metadata": {
  "kernelspec": {
   "display_name": "Python 3 (ipykernel)",
   "language": "python",
   "name": "python3"
  },
  "language_info": {
   "codemirror_mode": {
    "name": "ipython",
    "version": 3
   },
   "file_extension": ".py",
   "mimetype": "text/x-python",
   "name": "python",
   "nbconvert_exporter": "python",
   "pygments_lexer": "ipython3",
   "version": "3.9.18"
  }
 },
 "nbformat": 4,
 "nbformat_minor": 5
}
